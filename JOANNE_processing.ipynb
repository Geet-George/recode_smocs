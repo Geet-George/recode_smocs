{
 "cells": [
  {
   "cell_type": "markdown",
   "metadata": {},
   "source": [
    "# Data Processing\n",
    "\n",
    "This notebook demonstrates how data processing has been carried out for the study."
   ]
  },
  {
   "cell_type": "markdown",
   "metadata": {},
   "source": [
    "Let's start with importing the required modules."
   ]
  },
  {
   "cell_type": "code",
   "execution_count": 2,
   "metadata": {},
   "outputs": [],
   "source": [
    "import numpy as np\n",
    "import xarray as xr\n",
    "import matplotlib.pyplot as plt\n",
    "# from matplotlib.patches import Circle\n",
    "# from matplotlib.collections import PatchCollection\n",
    "# from matplotlib.lines import Line2D\n",
    "# import matplotlib.colors as colors\n",
    "# import matplotlib\n",
    "\n",
    "import metpy.calc as mpcalc\n",
    "from metpy.units import units \n",
    " \n",
    "# import glob\n",
    "# from tqdm.notebook import tqdm\n",
    "import seaborn as sb\n",
    "import pandas as pd\n",
    "# import datetime\n",
    "# sb.set_palette('Set2')\n",
    "# from math import ceil\n",
    "# import scipy as sp\n",
    "# from pylab import shape,size\n",
    "# import string\n",
    "# from matplotlib.patches import ConnectionPatch\n",
    "# import warnings\n",
    "\n",
    "# import joanne\n",
    "# from joanne.Level_4 import rgr_fn as rf\n",
    "# from joanne.Level_4 import ready_ds_for_regression as prep\n",
    "# from joanne.Level_4 import dicts\n",
    "\n",
    "from src import plotting_functions as pf\n",
    "\n",
    "import eurec4a"
   ]
  },
  {
   "cell_type": "markdown",
   "metadata": {},
   "source": [
    "## Reading & Subsetting Data\n",
    "--------"
   ]
  },
  {
   "cell_type": "markdown",
   "metadata": {},
   "source": [
    "For accessing [JOANNE](https://doi.org/10.5194/essd-13-5253-2021) data, we use the intake catalog set up for EUREC<sup>4</sup>A. "
   ]
  },
  {
   "cell_type": "markdown",
   "metadata": {},
   "source": [
    "<div class=\"alert alert-block alert-info\">\n",
    "The <a href=\"https://docs.ipfs.tech/concepts/content-addressing/#identifier-formats\">content identifier (CID)</a>, an <a href=\"https://docs.ipfs.tech/concepts/what-is-ipfs/#decentralization\">IPFS</a> hash in this case, is fixed for the study to make it as reproducible as possible. This CID is provided to the <a href=\"https://github.com/eurec4a/eurec4a-intake\">EUREC<sup>4</sup>A intake catalog</a> with the <code>use_ipfs</code> argument. For JOANNE data, the provided CID links to v2.0.0.\n",
    "</div>"
   ]
  },
  {
   "cell_type": "code",
   "execution_count": 6,
   "metadata": {},
   "outputs": [],
   "source": [
    "cat = eurec4a.get_intake_catalog(use_ipfs=\"QmahMN2wgPauHYkkiTGoG2TpPBmj3p5FoYJAq9uE9iXT9N\")"
   ]
  },
  {
   "cell_type": "markdown",
   "metadata": {},
   "source": [
    "For this notebook, we will only be needing Levels 3 & 4 of JOANNE. We use them as [Dask](https://docs.dask.org/en/stable/)-ified datasets as shown below."
   ]
  },
  {
   "cell_type": "code",
   "execution_count": 7,
   "metadata": {},
   "outputs": [],
   "source": [
    "jo_l3 = cat.dropsondes.JOANNE.level3.to_dask()\n",
    "jo_l4 = cat.dropsondes.JOANNE.level4.to_dask()"
   ]
  },
  {
   "cell_type": "markdown",
   "metadata": {},
   "source": [
    "We pick out selected EUREC<sup>4</sup>A circles for further analysis. See manuscript for details on EUREC<sup>4</sup>A circles.\n",
    "\n",
    "<div class=\"alert alert-block alert-warning\">\n",
    "Note that one circle (circle ID <code>HALO-0215_c3</code>) during the flight on 15.02.2020 was flown over the NTAS buoy, farther east than the EUREC<sup>4</sup>A circle region. This does not qualify as a EUREC<sup>4</sup>A circle and therefore, we exclude it from any analyses.\n",
    "</div>"
   ]
  },
  {
   "cell_type": "code",
   "execution_count": 8,
   "metadata": {},
   "outputs": [],
   "source": [
    "eurec4a_circles = jo_l4.where(\n",
    "    jo_l4.platform_id=='HALO',drop=True).where(\n",
    "    jo_l4.segment_id != 'HALO-0215_c3',drop=True).where(\n",
    "    jo_l4.segment_id != 'HALO-0119_c1',drop=True) # only EUREC4A-circles of HALO"
   ]
  },
  {
   "cell_type": "markdown",
   "metadata": {},
   "source": [
    "We will also be using the radiative profiles dataset by [Albright et al (2021)](https://doi.org/10.5194/essd-13-617-2021). These are derived from EUREC<sup>4</sup>A's [radiosonde](https://doi.org/10.5194/essd-13-491-2021) and dropsonde (JOANNE) sounding data, and will supplement our analyses from JOANNE. "
   ]
  },
  {
   "cell_type": "code",
   "execution_count": 17,
   "metadata": {},
   "outputs": [],
   "source": [
    "ds_rad = cat.radiative_profiles.clear_sky.to_dask()\n",
    "\n",
    "# Changing sounding_id from object to str for ease of use of dataset\n",
    "ds_rad['sounding_id'] = ds_rad['sounding_id'].astype('str')"
   ]
  }
 ],
 "metadata": {
  "kernelspec": {
   "display_name": "Python 3.8.13",
   "language": "python",
   "name": "python3"
  },
  "language_info": {
   "codemirror_mode": {
    "name": "ipython",
    "version": 3
   },
   "file_extension": ".py",
   "mimetype": "text/x-python",
   "name": "python",
   "nbconvert_exporter": "python",
   "pygments_lexer": "ipython3",
   "version": "3.8.13"
  },
  "orig_nbformat": 4,
  "vscode": {
   "interpreter": {
    "hash": "25aea05db3c96c34df8adf6151dd56d13d8f3aadd2552b51049c2130dd085a2b"
   }
  }
 },
 "nbformat": 4,
 "nbformat_minor": 2
}
